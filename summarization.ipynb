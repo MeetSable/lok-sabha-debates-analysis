{
  "cells": [
    {
      "cell_type": "markdown",
      "metadata": {
        "id": "9BGvmKgYkcbA"
      },
      "source": [
        "Lok Sabha Debates Analysis\n",
        "#Summarization"
      ]
    },
    {
      "cell_type": "markdown",
      "source": [
        "## Imports and downloads"
      ],
      "metadata": {
        "id": "EBtAcs8CHZIc"
      }
    },
    {
      "cell_type": "code",
      "source": [
        "!pip install tqdm"
      ],
      "metadata": {
        "colab": {
          "base_uri": "https://localhost:8080/"
        },
        "id": "P4y1njJ8Gidu",
        "outputId": "2ebeb9b2-fa4a-439d-cb09-5d1d0e0cc22e"
      },
      "execution_count": null,
      "outputs": [
        {
          "output_type": "stream",
          "name": "stdout",
          "text": [
            "Looking in indexes: https://pypi.org/simple, https://us-python.pkg.dev/colab-wheels/public/simple/\n",
            "Requirement already satisfied: tqdm in /usr/local/lib/python3.8/dist-packages (4.64.1)\n"
          ]
        }
      ]
    },
    {
      "cell_type": "code",
      "execution_count": null,
      "metadata": {
        "id": "YMetIARd7XWt"
      },
      "outputs": [],
      "source": [
        "!pip instlla -U spacy\n",
        "!python -m spacy download en_core_web_sm"
      ]
    },
    {
      "cell_type": "code",
      "execution_count": null,
      "metadata": {
        "id": "KZlvcIj632HO"
      },
      "outputs": [],
      "source": [
        "import pandas as pd\n",
        "import numpy as np"
      ]
    },
    {
      "cell_type": "code",
      "source": [
        "import os"
      ],
      "metadata": {
        "id": "mL4HOticFjEp"
      },
      "execution_count": null,
      "outputs": []
    },
    {
      "cell_type": "code",
      "source": [
        "from tqdm import tqdm"
      ],
      "metadata": {
        "id": "U6TP59r6Gk0L"
      },
      "execution_count": null,
      "outputs": []
    },
    {
      "cell_type": "code",
      "execution_count": null,
      "metadata": {
        "colab": {
          "base_uri": "https://localhost:8080/"
        },
        "id": "Uc6pB3g03lBg",
        "outputId": "264e617f-4b57-40bb-deff-603276d53c17"
      },
      "outputs": [
        {
          "output_type": "stream",
          "name": "stdout",
          "text": [
            "Looking in indexes: https://pypi.org/simple, https://us-python.pkg.dev/colab-wheels/public/simple/\n",
            "Requirement already satisfied: nltk in /usr/local/lib/python3.8/dist-packages (3.7)\n",
            "Requirement already satisfied: tqdm in /usr/local/lib/python3.8/dist-packages (from nltk) (4.64.1)\n",
            "Requirement already satisfied: click in /usr/local/lib/python3.8/dist-packages (from nltk) (7.1.2)\n",
            "Requirement already satisfied: joblib in /usr/local/lib/python3.8/dist-packages (from nltk) (1.2.0)\n",
            "Requirement already satisfied: regex>=2021.8.3 in /usr/local/lib/python3.8/dist-packages (from nltk) (2022.6.2)\n"
          ]
        }
      ],
      "source": [
        "!pip install nltk"
      ]
    },
    {
      "cell_type": "markdown",
      "source": [
        "## Input Cell"
      ],
      "metadata": {
        "id": "A1BL-ZtcHsjB"
      }
    },
    {
      "cell_type": "code",
      "source": [
        "year = input(\"Year: \")"
      ],
      "metadata": {
        "colab": {
          "base_uri": "https://localhost:8080/"
        },
        "id": "6XHxwZ9ZEuu2",
        "outputId": "69d52893-66f7-49a7-e55a-1ce6918263cc"
      },
      "execution_count": null,
      "outputs": [
        {
          "name": "stdout",
          "output_type": "stream",
          "text": [
            "Year: 2001\n"
          ]
        }
      ]
    },
    {
      "cell_type": "markdown",
      "source": [
        "## Importing files as per year input"
      ],
      "metadata": {
        "id": "VW-e7UY7HA6T"
      }
    },
    {
      "cell_type": "code",
      "execution_count": null,
      "metadata": {
        "colab": {
          "base_uri": "https://localhost:8080/",
          "height": 35
        },
        "id": "SgtDgK0RztlR",
        "outputId": "c757e633-16c7-4254-d2f2-1c0953941d20"
      },
      "outputs": [
        {
          "output_type": "execute_result",
          "data": {
            "text/plain": [
              "'/content/drive/Shareddrives/NLP_Project/Legislative Data/2001/csv/'"
            ],
            "application/vnd.google.colaboratory.intrinsic+json": {
              "type": "string"
            }
          },
          "metadata": {},
          "execution_count": 4
        }
      ],
      "source": [
        "folderpath = f'/content/drive/Shareddrives/NLP_Project/Legislative Data/{year}/csv/'\n",
        "folderpath"
      ]
    },
    {
      "cell_type": "code",
      "source": [
        "filepaths = os.listdir(folderpath)"
      ],
      "metadata": {
        "id": "h6-LmIXHFqvN"
      },
      "execution_count": null,
      "outputs": []
    },
    {
      "cell_type": "code",
      "source": [
        "filepaths"
      ],
      "metadata": {
        "colab": {
          "base_uri": "https://localhost:8080/"
        },
        "id": "9SjL-oDUFxT8",
        "outputId": "0584917f-70af-469e-b340-f180f2be6593"
      },
      "execution_count": null,
      "outputs": [
        {
          "output_type": "execute_result",
          "data": {
            "text/plain": [
              "['72',\n",
              " '1',\n",
              " '2',\n",
              " '3',\n",
              " '4',\n",
              " '5',\n",
              " '6',\n",
              " '7',\n",
              " '8',\n",
              " '9',\n",
              " '10',\n",
              " '11',\n",
              " '12',\n",
              " '13',\n",
              " '14',\n",
              " '15',\n",
              " '16',\n",
              " '17',\n",
              " '18',\n",
              " '19',\n",
              " '20',\n",
              " '21',\n",
              " '22',\n",
              " '23',\n",
              " '24',\n",
              " '25',\n",
              " '26',\n",
              " '27',\n",
              " '28',\n",
              " '29',\n",
              " '30',\n",
              " '31',\n",
              " '32',\n",
              " '33',\n",
              " '34',\n",
              " '35',\n",
              " '36',\n",
              " '37',\n",
              " '38',\n",
              " '39',\n",
              " '40',\n",
              " '41',\n",
              " '42',\n",
              " '43',\n",
              " '44',\n",
              " '45',\n",
              " '46',\n",
              " '47',\n",
              " '48',\n",
              " '49',\n",
              " '50',\n",
              " '51',\n",
              " '52',\n",
              " '53',\n",
              " '54',\n",
              " '55',\n",
              " '56',\n",
              " '57',\n",
              " '58',\n",
              " '59',\n",
              " '60',\n",
              " '61',\n",
              " '62',\n",
              " '63',\n",
              " '64',\n",
              " '65',\n",
              " '66',\n",
              " '67',\n",
              " '68',\n",
              " '69',\n",
              " '70',\n",
              " '71',\n",
              " '73',\n",
              " '74',\n",
              " '75',\n",
              " '76',\n",
              " '77',\n",
              " '78',\n",
              " '79',\n",
              " '80',\n",
              " '81']"
            ]
          },
          "metadata": {},
          "execution_count": 6
        }
      ]
    },
    {
      "cell_type": "markdown",
      "source": [
        "## Merging data of all files from particular year"
      ],
      "metadata": {
        "id": "PrvGew9tHLVE"
      }
    },
    {
      "cell_type": "code",
      "source": [
        "data = ''\n",
        "for file in tqdm(filepaths):\n",
        "  filename = folderpath+file\n",
        "  data+=pd.read_csv(filename,index_col=0).to_string()"
      ],
      "metadata": {
        "colab": {
          "base_uri": "https://localhost:8080/"
        },
        "id": "VESRCUhlF3Ol",
        "outputId": "97232281-1454-4799-b9ad-5d009c87b3d5"
      },
      "execution_count": null,
      "outputs": [
        {
          "output_type": "stream",
          "name": "stderr",
          "text": [
            "100%|██████████| 81/81 [01:06<00:00,  1.22it/s]\n"
          ]
        }
      ]
    },
    {
      "cell_type": "code",
      "source": [
        "combined_filepath  = f'/content/drive/Shareddrives/NLP_Project/Legislative Data/{year}/'+f'data_{year}.txt'\n",
        "with open(combined_filepath, 'w') as f:\n",
        "    f.write(data)"
      ],
      "metadata": {
        "id": "RUvz4gF2FI34"
      },
      "execution_count": null,
      "outputs": []
    },
    {
      "cell_type": "markdown",
      "source": [
        "## Summization"
      ],
      "metadata": {
        "id": "SwygHoT8Oqjk"
      }
    },
    {
      "cell_type": "code",
      "execution_count": null,
      "metadata": {
        "id": "xnr6nEN37Udz"
      },
      "outputs": [],
      "source": [
        "import spacy\n",
        "from spacy.lang.en.stop_words import STOP_WORDS\n",
        "from string import punctuation\n",
        "stopwords = list(STOP_WORDS)\n",
        "nlp = spacy.load('en_core_web_sm')\n",
        "from heapq import nlargest"
      ]
    },
    {
      "cell_type": "code",
      "source": [
        "len_ = len(data)\n",
        "x = 0\n",
        "y = 1000_000\n",
        "summary=\"\"\n",
        "while len_!=0 and len_>0:\n",
        "  data_m=nlp(data[x:y])\n",
        "  tokens = [token.text for token in data_m]\n",
        "  punctuation = punctuation + '\\n'\n",
        "  word_frequencies = {}\n",
        "  for word in data_m:\n",
        "    if word.text.lower() not in stopwords:\n",
        "      if word.text.lower() not in punctuation:\n",
        "        if word.text not in word_frequencies.keys():\n",
        "          word_frequencies[word.text] = 1\n",
        "        else:\n",
        "          word_frequencies[word.text] += 1\n",
        "  max_frequency = max(word_frequencies.values())\n",
        "  for word in word_frequencies.keys():\n",
        "    word_frequencies[word] = word_frequencies[word]/max_frequency\n",
        "  sentence_tokens = [sent for sent in data_m.sents]\n",
        "  sentence_scores = {}\n",
        "  for sent in sentence_tokens:\n",
        "    for word in sent:\n",
        "      if word.text.lower() in word_frequencies.keys():\n",
        "        if sent not in sentence_scores.keys():\n",
        "          sentence_scores[sent] = word_frequencies[word.text.lower()]\n",
        "        else:\n",
        "          sentence_scores[sent] += word_frequencies[word.text.lower()]\n",
        "  select_length = int(len(sentence_tokens)*0.3)\n",
        "  summary = nlargest(select_length, sentence_scores, key = sentence_scores.get)\n",
        "  final_summary = [word.text for word in summary]\n",
        "  summary += ''.join(final_summary)\n",
        "  print(f\"Summarized till index {x}:{y} with length being {len_}\\n\")\n",
        "  len_=len_-y\n",
        "  x=y+1\n",
        "  y=y+1000_000"
      ],
      "metadata": {
        "colab": {
          "base_uri": "https://localhost:8080/"
        },
        "id": "zraWD2M_MdSl",
        "outputId": "b12f5ade-1d18-489f-ebe0-3e0febdf9bfd"
      },
      "execution_count": null,
      "outputs": [
        {
          "output_type": "stream",
          "name": "stdout",
          "text": [
            "Summarized till index 0:1000000 with length being 1621918580\n",
            "\n",
            "Summarized till index 1000001:2000000 with length being 1620918580\n",
            "\n",
            "Summarized till index 2000001:3000000 with length being 1618918580\n",
            "\n",
            "Summarized till index 3000001:4000000 with length being 1615918580\n",
            "\n",
            "Summarized till index 4000001:5000000 with length being 1611918580\n",
            "\n",
            "Summarized till index 5000001:6000000 with length being 1606918580\n",
            "\n",
            "Summarized till index 6000001:7000000 with length being 1600918580\n",
            "\n",
            "Summarized till index 7000001:8000000 with length being 1593918580\n",
            "\n",
            "Summarized till index 8000001:9000000 with length being 1585918580\n",
            "\n",
            "Summarized till index 9000001:10000000 with length being 1576918580\n",
            "\n",
            "Summarized till index 10000001:11000000 with length being 1566918580\n",
            "\n",
            "Summarized till index 11000001:12000000 with length being 1555918580\n",
            "\n",
            "Summarized till index 12000001:13000000 with length being 1543918580\n",
            "\n",
            "Summarized till index 13000001:14000000 with length being 1530918580\n",
            "\n",
            "Summarized till index 14000001:15000000 with length being 1516918580\n",
            "\n",
            "Summarized till index 15000001:16000000 with length being 1501918580\n",
            "\n",
            "Summarized till index 16000001:17000000 with length being 1485918580\n",
            "\n",
            "Summarized till index 17000001:18000000 with length being 1468918580\n",
            "\n",
            "Summarized till index 18000001:19000000 with length being 1450918580\n",
            "\n",
            "Summarized till index 19000001:20000000 with length being 1431918580\n",
            "\n",
            "Summarized till index 20000001:21000000 with length being 1411918580\n",
            "\n",
            "Summarized till index 21000001:22000000 with length being 1390918580\n",
            "\n",
            "Summarized till index 22000001:23000000 with length being 1368918580\n",
            "\n",
            "Summarized till index 23000001:24000000 with length being 1345918580\n",
            "\n",
            "Summarized till index 24000001:25000000 with length being 1321918580\n",
            "\n",
            "Summarized till index 25000001:26000000 with length being 1296918580\n",
            "\n",
            "Summarized till index 26000001:27000000 with length being 1270918580\n",
            "\n",
            "Summarized till index 27000001:28000000 with length being 1243918580\n",
            "\n",
            "Summarized till index 28000001:29000000 with length being 1215918580\n",
            "\n",
            "Summarized till index 29000001:30000000 with length being 1186918580\n",
            "\n",
            "Summarized till index 30000001:31000000 with length being 1156918580\n",
            "\n",
            "Summarized till index 31000001:32000000 with length being 1125918580\n",
            "\n",
            "Summarized till index 32000001:33000000 with length being 1093918580\n",
            "\n",
            "Summarized till index 33000001:34000000 with length being 1060918580\n",
            "\n",
            "Summarized till index 34000001:35000000 with length being 1026918580\n",
            "\n",
            "Summarized till index 35000001:36000000 with length being 991918580\n",
            "\n",
            "Summarized till index 36000001:37000000 with length being 955918580\n",
            "\n",
            "Summarized till index 37000001:38000000 with length being 918918580\n",
            "\n",
            "Summarized till index 38000001:39000000 with length being 880918580\n",
            "\n",
            "Summarized till index 39000001:40000000 with length being 841918580\n",
            "\n",
            "Summarized till index 40000001:41000000 with length being 801918580\n",
            "\n",
            "Summarized till index 41000001:42000000 with length being 760918580\n",
            "\n",
            "Summarized till index 42000001:43000000 with length being 718918580\n",
            "\n",
            "Summarized till index 43000001:44000000 with length being 675918580\n",
            "\n",
            "Summarized till index 44000001:45000000 with length being 631918580\n",
            "\n",
            "Summarized till index 45000001:46000000 with length being 586918580\n",
            "\n",
            "Summarized till index 46000001:47000000 with length being 540918580\n",
            "\n",
            "Summarized till index 47000001:48000000 with length being 493918580\n",
            "\n",
            "Summarized till index 48000001:49000000 with length being 445918580\n",
            "\n",
            "Summarized till index 49000001:50000000 with length being 396918580\n",
            "\n",
            "Summarized till index 50000001:51000000 with length being 346918580\n",
            "\n",
            "Summarized till index 51000001:52000000 with length being 295918580\n",
            "\n",
            "Summarized till index 52000001:53000000 with length being 243918580\n",
            "\n",
            "Summarized till index 53000001:54000000 with length being 190918580\n",
            "\n",
            "Summarized till index 54000001:55000000 with length being 136918580\n",
            "\n",
            "Summarized till index 55000001:56000000 with length being 81918580\n",
            "\n",
            "Summarized till index 56000001:57000000 with length being 25918580\n",
            "\n"
          ]
        }
      ]
    },
    {
      "cell_type": "code",
      "source": [
        "combined_filepath  = f'/content/drive/Shareddrives/NLP_Project/Legislative Data/{year}/'+f'summary_{year}.txt'\n",
        "with open(combined_filepath, 'w') as f:\n",
        "    for s in summary:\n",
        "      f.write(str(s))"
      ],
      "metadata": {
        "id": "OeVec556SnbP"
      },
      "execution_count": null,
      "outputs": []
    },
    {
      "cell_type": "markdown",
      "source": [
        "## Dependency"
      ],
      "metadata": {
        "id": "vAzrrc6iT74b"
      }
    },
    {
      "cell_type": "code",
      "source": [
        "summary_string = \"\"\n",
        "for s in summary:\n",
        "  summary_string+=str(s)"
      ],
      "metadata": {
        "id": "WgXaHEE_Ttc5"
      },
      "execution_count": null,
      "outputs": []
    },
    {
      "cell_type": "code",
      "source": [
        "summary_nlp = nlp(summary_string)"
      ],
      "metadata": {
        "id": "Rw9-okXoT7WM"
      },
      "execution_count": null,
      "outputs": []
    },
    {
      "cell_type": "code",
      "source": [
        "combined_filepath  = f'/content/drive/Shareddrives/NLP_Project/Legislative Data/{year}/'+f'dep_{year}.svg'\n",
        "with open(combined_filepath, 'w') as f:\n",
        "    f.write(spacy.displacy.render(summary_nlp,style='dep'))"
      ],
      "metadata": {
        "id": "m1AcRP1OVOXR"
      },
      "execution_count": null,
      "outputs": []
    },
    {
      "cell_type": "markdown",
      "source": [
        "for token in doc:\n",
        "    print(token.text, token.lemma_, token.pos_, token.tag_, token.dep_,\n",
        "            token.shape_, token.is_alpha, token.is_stop)"
      ],
      "metadata": {
        "id": "zaYoF25jUWwY"
      }
    },
    {
      "cell_type": "markdown",
      "source": [
        "# Authors:\n",
        "<table>\n",
        "  <tr>\n",
        "    <th>Name</th>\n",
        "    <th>Student ID</th>\n",
        "    <th>Contact</th>\n",
        "  </tr>\n",
        "  <tr>\n",
        "    <td>Krishna Parmar</td>\n",
        "    <td>201901155</td>\n",
        "    <td>201901155@daiict.ac.in</td>\n",
        "  </tr>\n",
        "  <tr>\n",
        "    <td>Meet Sable</td>\n",
        "    <td>201901442</td>\n",
        "    <td>201901442@daiict.ac.in</td>\n",
        "  </tr>\n",
        "  <tr>\n",
        "    <td>Khushkumar Kantaria</td>\n",
        "    <td>201901299</td>\n",
        "    <td>201901299@daiict.ac.in</td>\n",
        "  </tr>\n",
        "</table>\n",
        "\n",
        "© Above mentioned authors hold full copyrights. "
      ],
      "metadata": {
        "id": "AnTpSuS7XI4p"
      }
    }
  ],
  "metadata": {
    "colab": {
      "provenance": [],
      "mount_file_id": "16AQ-DcV3wkPwEfyOpz8BNW1s3osKsxxO",
      "authorship_tag": "ABX9TyMMxrPrUD2QdP0UNUq4r6bQ"
    },
    "kernelspec": {
      "display_name": "Python 3",
      "name": "python3"
    },
    "language_info": {
      "name": "python"
    }
  },
  "nbformat": 4,
  "nbformat_minor": 0
}